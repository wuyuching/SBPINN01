{
 "cells": [
  {
   "cell_type": "code",
   "execution_count": null,
   "id": "b17c936a",
   "metadata": {},
   "outputs": [],
   "source": [
    "%matplotlib inline\n",
    "import pandas as pd\n",
    "import matplotlib.pyplot as plt\n",
    "from mxnet import autograd, gluon, init, np, npx\n",
    "from mxnet.gluon import nn\n",
    "from d2l import mxnet as d2l\n",
    "import random\n",
    "import numpy\n",
    "from mpl_toolkits.mplot3d import Axes3D\n",
    "import matplotlib.tri as mtri\n",
    "from mpl_toolkits.axes_grid1 import make_axes_locatable\n",
    "\n",
    "npx.set_np()"
   ]
  },
  {
   "cell_type": "code",
   "execution_count": null,
   "id": "b235dcd8",
   "metadata": {},
   "outputs": [],
   "source": [
    "## 数据文件的位置！！\n",
    "DXX=pd.read_table(r\"E:\\NN\\Data\\1Wire\\1Wire_XX.txt\", sep='\\s+', header=None)\n",
    "DYY=pd.read_table(r\"E:\\NN\\Data\\1Wire\\1Wire_YY.txt\", sep='\\s+', header=None)"
   ]
  },
  {
   "cell_type": "code",
   "execution_count": null,
   "id": "f431dbbe",
   "metadata": {},
   "outputs": [],
   "source": [
    "NXX=np.array(DXX.values, dtype=np.float32, ctx=npx.gpu()).reshape(10000,4,1,101)\n",
    "YY=DYY"
   ]
  },
  {
   "cell_type": "code",
   "execution_count": null,
   "id": "9c4d5c25",
   "metadata": {},
   "outputs": [],
   "source": [
    "n_train = 8000\n",
    "train_features = NXX[:n_train,:,:,:]\n",
    "test_features = NXX[n_train:,:,:,:]\n",
    "train_labels = np.array(YY[:n_train].values*100, dtype=np.float32, ctx=npx.gpu())\n",
    "test_labels = np.array(YY[n_train:].values*100, dtype=np.float32, ctx=npx.gpu())"
   ]
  },
  {
   "cell_type": "code",
   "execution_count": null,
   "id": "d24e8eed",
   "metadata": {},
   "outputs": [],
   "source": [
    "batch_size=128\n",
    "train_iter = d2l.load_array((train_features, train_labels), batch_size)\n",
    "test_iter = d2l.load_array((test_features, test_labels), batch_size)"
   ]
  },
  {
   "cell_type": "code",
   "execution_count": null,
   "id": "18dd7b08",
   "metadata": {},
   "outputs": [],
   "source": [
    "def MSE(data_iter, net):\n",
    "    acc_sum, n = 0.0, 0\n",
    "    for X, y in data_iter:\n",
    "        acc_sum += ((net(X)-y)**2).sum()\n",
    "        n += y.size\n",
    "    return acc_sum / n"
   ]
  },
  {
   "cell_type": "code",
   "execution_count": null,
   "id": "8ecc170b",
   "metadata": {},
   "outputs": [],
   "source": [
    "net = nn.Sequential()\n",
    "net.add(nn.BatchNorm(),\n",
    "        nn.Conv2D(channels=3, kernel_size=3, padding=1, activation='relu'),\n",
    "        nn.Dense(202, activation='relu'),\n",
    "        nn.Dense(101))\n",
    "net.initialize(init.Normal(sigma=0.01), ctx=npx.gpu())\n",
    "# net.load_parameters(\"1Wire_23\", ctx=npx.gpu()) ## 这是可以直接调用训练好的参数！！需要注释前一行对参数的初始化\n",
    "loss = gluon.loss.L2Loss()"
   ]
  },
  {
   "cell_type": "code",
   "execution_count": null,
   "id": "0cc19d15",
   "metadata": {},
   "outputs": [],
   "source": [
    "train_ls, test_ls = [], []"
   ]
  },
  {
   "cell_type": "code",
   "execution_count": null,
   "id": "7019a399",
   "metadata": {},
   "outputs": [],
   "source": [
    "trainer = gluon.Trainer(net.collect_params(), 'adam', {'learning_rate': 0.00001,})"
   ]
  },
  {
   "cell_type": "code",
   "execution_count": null,
   "id": "2844100c",
   "metadata": {},
   "outputs": [],
   "source": [
    "old_epochs=0\n",
    "new_epochs=10\n",
    "\n",
    "for epoch in range(new_epochs):\n",
    "    for X, y in train_iter:\n",
    "        with autograd.record():\n",
    "            l = loss(net(X), y)\n",
    "        l.backward()\n",
    "        trainer.step(batch_size)\n",
    "    train_ls.append(MSE(train_iter, net))\n",
    "    test_ls.append(MSE(test_iter, net))\n",
    "    print('epoch %d, train MSE %.6f, test MSE %.6f' % (old_epochs+epoch+1, train_ls[-1], test_ls[-1]))"
   ]
  },
  {
   "cell_type": "code",
   "execution_count": null,
   "id": "07c2feb0",
   "metadata": {},
   "outputs": [],
   "source": [
    "plt.plot(np.arange(old_epochs+new_epochs),train_ls,label='train data')\n",
    "plt.plot(np.arange(old_epochs+new_epochs),test_ls,label='test data')\n",
    "plt.xlabel('Epochs')\n",
    "plt.ylabel('MSE')\n",
    "plt.yscale('log')\n",
    "plt.legend()"
   ]
  },
  {
   "cell_type": "code",
   "execution_count": null,
   "id": "36649092",
   "metadata": {},
   "outputs": [],
   "source": [
    "# net.save_parameters(\"1Wire_23\")  ## 这是可以保存训练好的参数！！"
   ]
  },
  {
   "cell_type": "code",
   "execution_count": null,
   "id": "a23e12b6",
   "metadata": {},
   "outputs": [],
   "source": [
    "def plots(net,iindex=0):\n",
    "    if iindex==0:\n",
    "        ii=random.randint(n_train,DXX.shape[0])\n",
    "    else:\n",
    "        ii=iindex\n",
    "    px=NXX[ii,:,:,:]\n",
    "    py=YY.iloc[ii].values\n",
    "    lx=DXX.iloc[ii,0:101].values\n",
    "    nxx=px.copyto(npx.gpu()).reshape(1,4,1,101)\n",
    "    nyy=net(nxx).reshape(101,)\n",
    "\n",
    "    plt.plot(lx,np.linspace(0,0,101),color='black')\n",
    "    plt.bar(lx,DXX.iloc[ii,101*2:101*3].values,color='g',width =.8) \n",
    "    plt.plot(lx,-py*100,color='r',label='FEM',linestyle='--')\n",
    "    plt.plot(lx,-nyy,color='b',label='NET')\n",
    "    plt.legend()"
   ]
  },
  {
   "cell_type": "code",
   "execution_count": null,
   "id": "7b5e4e8c",
   "metadata": {},
   "outputs": [],
   "source": [
    "plt.figure(figsize=(10,8))\n",
    "plt.subplot(2, 2, 1); plots(net)\n",
    "plt.subplot(2, 2, 2); plots(net)\n",
    "plt.subplot(2, 2, 3); plots(net)\n",
    "plt.subplot(2, 2, 4); plots(net)"
   ]
  },
  {
   "cell_type": "code",
   "execution_count": null,
   "id": "3c54fe44",
   "metadata": {},
   "outputs": [],
   "source": [
    "sMAPEerror=[]\n",
    "for i in range(8000,10000):\n",
    "    px=NXX[i,:,:,:]\n",
    "    py=YY.iloc[i].values*100\n",
    "\n",
    "    nxx=px.reshape(1,4,1,101)\n",
    "    nyy=net(nxx).reshape(101,)\n",
    "\n",
    "    ny=nyy.asnumpy()\n",
    "    tmp=(abs(py-ny)/(abs(py)+abs(ny))).sum()\n",
    "    tmp=tmp/py.size\n",
    "    sMAPEerror.append(tmp)\n",
    "print('Maxerror:', max(sMAPEerror))\n",
    "print('Maxindex:', 8000+sMAPEerror.index(max(sMAPEerror)))"
   ]
  },
  {
   "cell_type": "code",
   "execution_count": null,
   "id": "6933b2ad",
   "metadata": {},
   "outputs": [],
   "source": [
    "sum(sMAPEerror)/2000"
   ]
  },
  {
   "cell_type": "code",
   "execution_count": null,
   "id": "61d97c39",
   "metadata": {},
   "outputs": [],
   "source": []
  }
 ],
 "metadata": {
  "kernelspec": {
   "display_name": "Python 3 (ipykernel)",
   "language": "python",
   "name": "python3"
  },
  "language_info": {
   "codemirror_mode": {
    "name": "ipython",
    "version": 3
   },
   "file_extension": ".py",
   "mimetype": "text/x-python",
   "name": "python",
   "nbconvert_exporter": "python",
   "pygments_lexer": "ipython3",
   "version": "3.7.5"
  }
 },
 "nbformat": 4,
 "nbformat_minor": 5
}
