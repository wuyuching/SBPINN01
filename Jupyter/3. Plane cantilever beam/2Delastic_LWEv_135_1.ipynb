{
 "cells": [
  {
   "cell_type": "markdown",
   "id": "6ff9ebe2-9759-43ea-97d9-fb0b73d4e310",
   "metadata": {},
   "source": [
    "3.3.1. Plane cantilever beam  \n",
    "135个节点  \n",
    "预测位移 ${u_{x}}$ "
   ]
  },
  {
   "cell_type": "code",
   "execution_count": null,
   "id": "381f2900-a009-44dc-bc5c-5761d3b3b552",
   "metadata": {},
   "outputs": [],
   "source": [
    "%matplotlib inline\n",
    "import pandas as pd\n",
    "import matplotlib.pyplot as plt\n",
    "from mxnet import autograd, gluon, init, np, npx\n",
    "from mxnet.gluon import nn\n",
    "from d2l import mxnet as d2l\n",
    "import random\n",
    "import numpy\n",
    "from mpl_toolkits.mplot3d import Axes3D\n",
    "import matplotlib.tri as mtri\n",
    "from mpl_toolkits.axes_grid1 import make_axes_locatable\n",
    "from matplotlib import colors\n",
    "\n",
    "npx.set_np()"
   ]
  },
  {
   "cell_type": "code",
   "execution_count": null,
   "id": "f2378420-fbab-44f3-b3b7-e0a53a6162d9",
   "metadata": {},
   "outputs": [],
   "source": [
    "DXX=pd.read_table(r\"..\\Data\\New_NN135_LWm_Ev_Frand_XX.txt\", sep='\\s+', header=None)\n",
    "DYY=pd.read_table(r\"..\\Data\\New_NN135_LWm_Ev_Frand_YY.txt\", sep='\\s+', header=None)"
   ]
  },
  {
   "cell_type": "code",
   "execution_count": null,
   "id": "21309055-74eb-462a-ac77-fbc897ae1109",
   "metadata": {},
   "outputs": [],
   "source": [
    "NXX=np.array(DXX.values, dtype=np.float32, ctx=npx.gpu()).reshape(10000,8,1,135)"
   ]
  },
  {
   "cell_type": "code",
   "execution_count": null,
   "id": "4d830633-6e2e-4656-b763-1fce9145aa62",
   "metadata": {},
   "outputs": [],
   "source": [
    "YY=DYY.iloc[:,135*0:135*1]*10000"
   ]
  },
  {
   "cell_type": "code",
   "execution_count": null,
   "id": "40f03bf0-c6f4-44e1-adb8-45f28da42c53",
   "metadata": {},
   "outputs": [],
   "source": [
    "n_train = 8000\n",
    "train_features = NXX[:n_train,:,:,:]\n",
    "test_features = NXX[n_train:,:,:,:]\n",
    "train_labels = np.array(YY[:n_train].values, dtype=np.float32, ctx=npx.gpu())\n",
    "test_labels = np.array(YY[n_train:].values, dtype=np.float32, ctx=npx.gpu())"
   ]
  },
  {
   "cell_type": "code",
   "execution_count": null,
   "id": "7869392a-c0d0-4f77-91a2-7e044dd8f01c",
   "metadata": {},
   "outputs": [],
   "source": [
    "batch_size=256\n",
    "train_iter = d2l.load_array((train_features, train_labels), batch_size)\n",
    "test_iter = d2l.load_array((test_features, test_labels), batch_size)"
   ]
  },
  {
   "cell_type": "code",
   "execution_count": null,
   "id": "deac7f2c-001a-4d47-af0b-a90adf6d1ad5",
   "metadata": {},
   "outputs": [],
   "source": [
    "def MSE(data_iter, net):\n",
    "    acc_sum, n = 0.0, 0\n",
    "    for X, y in data_iter:\n",
    "        acc_sum += ((net(X)-y)**2).sum()\n",
    "        n += y.size\n",
    "    return acc_sum / n"
   ]
  },
  {
   "cell_type": "code",
   "execution_count": null,
   "id": "e7c8b4c5-6a30-4411-9cd4-4483c8c235c9",
   "metadata": {},
   "outputs": [],
   "source": [
    "net = nn.Sequential()\n",
    "net.add(nn.BatchNorm(),\n",
    "        nn.Conv2D(channels=8, kernel_size=3, padding=1, activation='relu'),\n",
    "        nn.Dense(270, activation='relu'),\n",
    "        nn.Dense(135))\n",
    "net.initialize(init.Normal(sigma=0.01), ctx=npx.gpu())\n",
    "loss = gluon.loss.L2Loss()"
   ]
  },
  {
   "cell_type": "code",
   "execution_count": null,
   "id": "1ea36980-4f2f-4ba7-bb0b-78688739707b",
   "metadata": {},
   "outputs": [],
   "source": [
    "train_ls, test_ls = [], []"
   ]
  },
  {
   "cell_type": "code",
   "execution_count": null,
   "id": "c0ceaab3-c32c-47ba-9108-143e0c64dbcd",
   "metadata": {},
   "outputs": [],
   "source": [
    "trainer = gluon.Trainer(net.collect_params(), 'adam', {'learning_rate': 0.00001,})"
   ]
  },
  {
   "cell_type": "code",
   "execution_count": null,
   "id": "c81aba48-ddb4-4f40-bd45-b037e20f0817",
   "metadata": {},
   "outputs": [],
   "source": [
    "old_epochs=0\n",
    "new_epochs=200\n",
    "\n",
    "for epoch in range(new_epochs):\n",
    "    for X, y in train_iter:\n",
    "        with autograd.record():\n",
    "            l = loss(net(X), y)\n",
    "        l.backward()\n",
    "        trainer.step(batch_size)\n",
    "    train_ls.append(MSE(train_iter, net))\n",
    "    test_ls.append(MSE(test_iter, net))\n",
    "    if epoch % 10 ==0:\n",
    "        print('epoch %d, train MSE %.6f, test MSE %.6f' % (old_epochs+epoch+1, train_ls[-1], test_ls[-1]))"
   ]
  },
  {
   "cell_type": "code",
   "execution_count": null,
   "id": "5a23065f-1939-4763-b24b-7aade43aac2c",
   "metadata": {},
   "outputs": [],
   "source": [
    "print(MSE(train_iter, net), MSE(test_iter, net))\n",
    "plt.plot(np.arange(old_epochs+new_epochs),train_ls,label='train data')\n",
    "plt.plot(np.arange(old_epochs+new_epochs),test_ls,label='test data')\n",
    "plt.xlabel('Epochs')\n",
    "plt.ylabel('MSE')\n",
    "plt.yscale('log')\n",
    "plt.legend()"
   ]
  },
  {
   "cell_type": "code",
   "execution_count": null,
   "id": "d3234c55-d21a-4b19-bedd-cca8130bfe19",
   "metadata": {},
   "outputs": [],
   "source": [
    "# net.save_parameters(\"2Delastic_LWev_135_1__Batch14_87\")\n",
    "# net.load_parameters(\"2Delastic_LWev_135_1__Batch14_87\")"
   ]
  },
  {
   "cell_type": "code",
   "execution_count": null,
   "id": "2deaa757-2ea5-4df8-abaf-c4c03676b820",
   "metadata": {},
   "outputs": [],
   "source": [
    "def plots(net,ax,iindex=0):\n",
    "    if iindex==0:\n",
    "        ii=random.randint(n_train,DXX.shape[0])\n",
    "    else:\n",
    "        ii=iindex\n",
    "    xd=DXX.iloc[ii,0:135].values\n",
    "    yd=DXX.iloc[ii,135:270].values\n",
    "\n",
    "    px=NXX[ii,:,:,:]\n",
    "    py=YY.iloc[ii].values\n",
    "    \n",
    "    nxx=px.reshape(1,8,1,135)\n",
    "    nyy=net(nxx).reshape(135,)\n",
    "    \n",
    "    zd=py\n",
    "    zn=nyy.asnumpy()\n",
    "\n",
    "    ax.scatter3D(xd,yd,zd, color='r',label='FEM' )\n",
    "    ax.scatter3D(xd,yd,zn, color='b',label='NET' )\n",
    "    ax.legend()\n",
    "\n",
    "def plotopo(net,fig,style=1,iindex=0):\n",
    "    if iindex==0:\n",
    "        ii=random.randint(n_train,DXX.shape[0])\n",
    "    else:\n",
    "        ii=iindex\n",
    "    xd=DXX.iloc[ii,0:135].values\n",
    "    yd=DXX.iloc[ii,135:270].values\n",
    "    triang = mtri.Triangulation(xd, yd)\n",
    "\n",
    "    px=NXX[ii,:,:,:]\n",
    "    py=YY.loc[ii].values\n",
    "    \n",
    "    nxx=px.reshape(1,8,1,135)\n",
    "    nyy=net(nxx).reshape(135,)\n",
    "    ny=nyy.asnumpy()\n",
    "\n",
    "    # py=py*(maxdisp[i]-mindisp[i])+mindisp[i]\n",
    "    # ny=ny*(maxdisp[i]-mindisp[i])+mindisp[i]\n",
    "    zd=py\n",
    "    zn=ny\n",
    "    \n",
    "    vmin=min(numpy.min(zd),numpy.min(zn))\n",
    "    vmax=max(numpy.max(zd),numpy.max(zn))\n",
    "    norm=colors.Normalize(vmin=vmin,vmax=vmax)\n",
    "    \n",
    "    ax1 = fig.add_subplot(1, 2, 1)\n",
    "    ax1.set_aspect(1)\n",
    "    if style==1:\n",
    "        im=ax1.tripcolor(triang, zd, cmap=\"jet\", shading='gouraud',norm=norm)\n",
    "    elif style==2:\n",
    "        # im=ax1.tricontourf(triang, zd, cmap=\"jet\")\n",
    "        im=ax1.tricontourf(triang, zd, cmap=\"jet\",norm=norm)\n",
    "    # divider = make_axes_locatable(ax1)\n",
    "    # cax = divider.append_axes(\"right\", size=\"6%\", pad=0.15)\n",
    "    # cbar = plt.colorbar(im, cax=cax)\n",
    "    # cbar.set_label('$u_y$',size=10)\n",
    "    # cbar.ax.tick_params(labelsize=10)\n",
    "    ax1.set_title('FEM')\n",
    "\n",
    "    ax2 = fig.add_subplot(1, 2, 2)\n",
    "    ax2.set_aspect(1)\n",
    "    if style==1:\n",
    "        im=ax2.tripcolor(triang, zn, cmap=\"jet\", shading='gouraud',norm=norm)\n",
    "    elif style==2:\n",
    "        im=ax2.tricontourf(triang, zn, cmap=\"jet\",norm=norm)\n",
    "    \n",
    "    fig.subplots_adjust(right=0.9)\n",
    "    position = fig.add_axes([0.92, 0.12, 0.015, 0.76])\n",
    "    # cbar = plt.colorbar(im, cax=cax)\n",
    "    # cbar.set_label('$u_y$',size=10)\n",
    "    # cbar.ax.tick_params(labelsize=10)\n",
    "    cb=fig.colorbar(im, cax=position, ax=[ax1,ax2],norm=norm, cmap=\"jet\",)\n",
    "    cb.ax.tick_params(direction='in')\n",
    "    ax2.set_title('NET')"
   ]
  },
  {
   "cell_type": "code",
   "execution_count": null,
   "id": "5e72c2de-8cd7-463f-ac7c-4f2679c133ee",
   "metadata": {},
   "outputs": [],
   "source": [
    "fig=plt.figure(figsize=(10,8))\n",
    "ax = fig.add_subplot(2, 2, 1, projection='3d');plots(net,ax)\n",
    "ax = fig.add_subplot(2, 2, 2, projection='3d');plots(net,ax)\n",
    "ax = fig.add_subplot(2, 2, 3, projection='3d');plots(net,ax)\n",
    "ax = fig.add_subplot(2, 2, 4, projection='3d');plots(net,ax)"
   ]
  },
  {
   "cell_type": "code",
   "execution_count": null,
   "id": "cece10f5-2a3f-4fa0-bab6-f5fe9475b768",
   "metadata": {},
   "outputs": [],
   "source": [
    "for i in range(3):\n",
    "    fig=plt.figure(figsize=(10,2));plotopo(net,fig,2)"
   ]
  },
  {
   "cell_type": "code",
   "execution_count": null,
   "id": "73a031f2-36b2-43d7-8e73-5739475907f0",
   "metadata": {},
   "outputs": [],
   "source": []
  }
 ],
 "metadata": {
  "kernelspec": {
   "display_name": "Python 3 (ipykernel)",
   "language": "python",
   "name": "python3"
  },
  "language_info": {
   "codemirror_mode": {
    "name": "ipython",
    "version": 3
   },
   "file_extension": ".py",
   "mimetype": "text/x-python",
   "name": "python",
   "nbconvert_exporter": "python",
   "pygments_lexer": "ipython3",
   "version": "3.8.13"
  }
 },
 "nbformat": 4,
 "nbformat_minor": 5
}
