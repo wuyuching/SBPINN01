{
 "cells": [
  {
   "cell_type": "markdown",
   "id": "6ff9ebe2-9759-43ea-97d9-fb0b73d4e310",
   "metadata": {},
   "source": [
    "3.3.3. A plate with notches  \n",
    "\n",
    "预测应力 ${\\sigma_{eff}}$"
   ]
  },
  {
   "cell_type": "code",
   "execution_count": null,
   "id": "381f2900-a009-44dc-bc5c-5761d3b3b552",
   "metadata": {},
   "outputs": [],
   "source": [
    "%matplotlib inline\n",
    "import pandas as pd\n",
    "import matplotlib.pyplot as plt\n",
    "from mxnet import autograd, gluon, init, np, npx\n",
    "from mxnet.gluon import nn\n",
    "from d2l import mxnet as d2l\n",
    "import random\n",
    "import numpy\n",
    "from mpl_toolkits.mplot3d import Axes3D\n",
    "import matplotlib.tri as mtri\n",
    "from mpl_toolkits.axes_grid1 import make_axes_locatable\n",
    "\n",
    "npx.set_np()"
   ]
  },
  {
   "cell_type": "code",
   "execution_count": null,
   "id": "f2378420-fbab-44f3-b3b7-e0a53a6162d9",
   "metadata": {},
   "outputs": [],
   "source": [
    "DXX=pd.read_table(r\"..\\Data\\NN140_LBR_Ev_Frand_XX.txt\", sep='\\s+', header=None)\n",
    "DYY=pd.read_table(r\"..\\Data\\NN140_LBR_Ev_Frand_YY.txt\", sep='\\s+', header=None)"
   ]
  },
  {
   "cell_type": "code",
   "execution_count": null,
   "id": "21309055-74eb-462a-ac77-fbc897ae1109",
   "metadata": {},
   "outputs": [],
   "source": [
    "NXX=np.array(DXX.values, dtype=np.float32, ctx=npx.gpu()).reshape(10000,8,1,140)\n",
    "YY=DYY.iloc[:,140*5:140*6]"
   ]
  },
  {
   "cell_type": "code",
   "execution_count": null,
   "id": "40f03bf0-c6f4-44e1-adb8-45f28da42c53",
   "metadata": {},
   "outputs": [],
   "source": [
    "n_train = 8000\n",
    "train_features = NXX[:n_train,:,:,:]\n",
    "test_features = NXX[n_train:,:,:,:]\n",
    "train_labels = np.array(YY[:n_train].values, dtype=np.float32, ctx=npx.gpu())\n",
    "test_labels = np.array(YY[n_train:].values, dtype=np.float32, ctx=npx.gpu())"
   ]
  },
  {
   "cell_type": "code",
   "execution_count": null,
   "id": "7869392a-c0d0-4f77-91a2-7e044dd8f01c",
   "metadata": {},
   "outputs": [],
   "source": [
    "batch_size=128\n",
    "train_iter = d2l.load_array((train_features, train_labels), batch_size)\n",
    "test_iter = d2l.load_array((test_features, test_labels), batch_size)"
   ]
  },
  {
   "cell_type": "code",
   "execution_count": null,
   "id": "deac7f2c-001a-4d47-af0b-a90adf6d1ad5",
   "metadata": {},
   "outputs": [],
   "source": [
    "def MSE(data_iter, net):\n",
    "    acc_sum, n = 0.0, 0\n",
    "    for X, y in data_iter:\n",
    "        acc_sum += ((net(X[:,[0,1,2,3,6,7],:,:],X[:,[4,5],:,:])-y)**2).sum()\n",
    "        n += y.size\n",
    "    return acc_sum / n"
   ]
  },
  {
   "cell_type": "code",
   "execution_count": null,
   "id": "27287855-87d7-4714-978d-2ac411cf4fcf",
   "metadata": {},
   "outputs": [],
   "source": [
    "class NetFEM(nn.Block):\n",
    "    def __init__(self):\n",
    "        super().__init__()\n",
    "        self.Batch1=nn.BatchNorm()\n",
    "        self.Batch2=nn.BatchNorm()\n",
    "        self.Conv2D1=nn.Conv2D(channels=4, kernel_size=3, padding=1, activation='relu')\n",
    "        self.Dens1X1=nn.Dense(280, activation='relu')\n",
    "        self.Dens2X1=nn.Dense(140)\n",
    "        self.Dens1X2=nn.Dense(280, activation='relu')\n",
    "        self.Dens2X2=nn.Dense(140)\n",
    "        self.output=nn.Dense(140)\n",
    "\n",
    "    def forward(self, X1, X2):\n",
    "        X1=self.Batch1(X1)\n",
    "        X1=self.Conv2D1(X1)\n",
    "        X1=self.Dens1X1(X1)\n",
    "        X1=self.Dens2X1(X1)\n",
    "        X2=self.Batch2(X2)\n",
    "        X2=self.Dens1X2(X2)\n",
    "        X2=self.Dens2X2(X2)\n",
    "        X=X1*X2\n",
    "        X=self.output(X)\n",
    "        return X"
   ]
  },
  {
   "cell_type": "code",
   "execution_count": null,
   "id": "c66abbaa-0fbb-42e7-a665-43cbe0813b08",
   "metadata": {},
   "outputs": [],
   "source": [
    "net = NetFEM()\n",
    "net.initialize(init.Normal(sigma=0.01), ctx=npx.gpu())\n",
    "loss = gluon.loss.L2Loss()"
   ]
  },
  {
   "cell_type": "code",
   "execution_count": null,
   "id": "1ea36980-4f2f-4ba7-bb0b-78688739707b",
   "metadata": {},
   "outputs": [],
   "source": [
    "train_ls, test_ls = [], []"
   ]
  },
  {
   "cell_type": "code",
   "execution_count": null,
   "id": "c0ceaab3-c32c-47ba-9108-143e0c64dbcd",
   "metadata": {},
   "outputs": [],
   "source": [
    "trainer = gluon.Trainer(net.collect_params(), 'adam', {'learning_rate': 0.001,})"
   ]
  },
  {
   "cell_type": "code",
   "execution_count": null,
   "id": "c0c4f259-3f2b-47d6-943e-e8336f165efd",
   "metadata": {},
   "outputs": [],
   "source": [
    "old_epochs=0\n",
    "new_epochs=50\n",
    "\n",
    "for epoch in range(new_epochs):\n",
    "    for X, y in train_iter:\n",
    "        with autograd.record():\n",
    "            l = loss(net(X[:,[0,1,2,3,6,7],:,:],X[:,[4,5],:,:]), y)\n",
    "        l.backward()\n",
    "        trainer.step(batch_size)\n",
    "    train_ls.append(MSE(train_iter, net))\n",
    "    test_ls.append(MSE(test_iter, net))\n",
    "    print('epoch %d, train MSE %.6f, test MSE %.6f' % (old_epochs+epoch+1, train_ls[-1], test_ls[-1]))"
   ]
  },
  {
   "cell_type": "code",
   "execution_count": null,
   "id": "5a23065f-1939-4763-b24b-7aade43aac2c",
   "metadata": {},
   "outputs": [],
   "source": [
    "plt.plot(np.arange(old_epochs+new_epochs),train_ls,label='train data')\n",
    "plt.plot(np.arange(old_epochs+new_epochs),test_ls,label='test data')\n",
    "plt.xlabel('Epochs')\n",
    "plt.ylabel('MSE')\n",
    "plt.yscale('log')\n",
    "plt.legend()"
   ]
  },
  {
   "cell_type": "code",
   "execution_count": null,
   "id": "e356ef08-3025-417d-921c-6dc843a22b6b",
   "metadata": {},
   "outputs": [],
   "source": [
    "# net.save_parameters(\"2DelasticPlus_LWREv_0__Batch128_1+8\")"
   ]
  },
  {
   "cell_type": "code",
   "execution_count": null,
   "id": "2deaa757-2ea5-4df8-abaf-c4c03676b820",
   "metadata": {},
   "outputs": [],
   "source": [
    "def plots(net,ax,iindex=0):\n",
    "    if iindex==0:\n",
    "        ii=random.randint(n_train,DXX.shape[0])\n",
    "    else:\n",
    "        ii=iindex\n",
    "    xd=DXX.iloc[ii,0:140].values\n",
    "    yd=DXX.iloc[ii,140:280].values\n",
    "    px=NXX[ii,:,:,:]\n",
    "    py=YY.iloc[ii].values\n",
    "    \n",
    "    nxx=px.reshape(1,8,1,140)\n",
    "    nyy=net(nxx[:,[0,1,2,3,6,7],:,:],nxx[:,[4,5],:,:]).reshape(140,)\n",
    "    \n",
    "    zd=py\n",
    "    zn=nyy.asnumpy()\n",
    "\n",
    "    ax.scatter3D(xd,yd,zd, color='r',label='FEM' )\n",
    "    ax.scatter3D(xd,yd,zn, color='b',label='NET' )\n",
    "    ax.legend()\n",
    "\n",
    "def plotopo(net,fig,style=1,iindex=0):\n",
    "    if iindex==0:\n",
    "        ii=random.randint(n_train,DXX.shape[0])\n",
    "    else:\n",
    "        ii=iindex\n",
    "    xd=DXX.iloc[ii,0:140].values\n",
    "    yd=DXX.iloc[ii,140:280].values\n",
    "    rr=yd[0]\n",
    "    triang = mtri.Triangulation(xd, yd)\n",
    "    xmid = xd[triang.triangles].mean(axis=1)\n",
    "    ymid = yd[triang.triangles].mean(axis=1)\n",
    "    mask = numpy.where(xmid**2 + ymid**2 < rr**2, 1, 0)\n",
    "    triang.set_mask(mask)\n",
    "    \n",
    "    px=NXX[ii,:,:,:]\n",
    "    py=YY.loc[ii].values\n",
    "    \n",
    "    nxx=px.reshape(1,8,1,140)\n",
    "    nyy=net(nxx[:,[0,1,2,3,6,7],:,:],nxx[:,[4,5],:,:]).reshape(140,)\n",
    "    \n",
    "    zd=py\n",
    "    zn=nyy.asnumpy()\n",
    "    \n",
    "    ax1 = fig.add_subplot(1, 2, 1)\n",
    "    ax1.set_aspect(1)\n",
    "    if style==1:\n",
    "        im=ax1.tripcolor(triang, zd, cmap=\"jet\", shading='gouraud')\n",
    "    elif style==2:\n",
    "        im=ax1.tricontourf(triang, zd, cmap=\"jet\")\n",
    "    divider = make_axes_locatable(ax1)\n",
    "    cax = divider.append_axes(\"right\", size=\"6%\", pad=0.15)\n",
    "    cbar = plt.colorbar(im, cax=cax)\n",
    "    # cbar.set_label('$u_y$',size=10)\n",
    "    cbar.ax.tick_params(labelsize=10)\n",
    "    ax1.set_title('FEM')\n",
    "\n",
    "    ax2 = fig.add_subplot(1, 2, 2)\n",
    "    ax2.set_aspect(1)\n",
    "    if style==1:\n",
    "        im=ax2.tripcolor(triang, zn, cmap=\"jet\", shading='gouraud')\n",
    "    elif style==2:\n",
    "        im=ax2.tricontourf(triang, zn, cmap=\"jet\")\n",
    "    divider = make_axes_locatable(ax2)\n",
    "    cax = divider.append_axes(\"right\", size=\"6%\", pad=0.15)\n",
    "    cbar = plt.colorbar(im, cax=cax)\n",
    "    # cbar.set_label('$u_y$',size=10)\n",
    "    cbar.ax.tick_params(labelsize=10)\n",
    "    ax2.set_title('NET')\n"
   ]
  },
  {
   "cell_type": "code",
   "execution_count": null,
   "id": "5e72c2de-8cd7-463f-ac7c-4f2679c133ee",
   "metadata": {},
   "outputs": [],
   "source": [
    "fig=plt.figure(figsize=(10,8))\n",
    "ax = fig.add_subplot(2, 2, 1, projection='3d');plots(net,ax)\n",
    "ax = fig.add_subplot(2, 2, 2, projection='3d');plots(net,ax)\n",
    "ax = fig.add_subplot(2, 2, 3, projection='3d');plots(net,ax)\n",
    "ax = fig.add_subplot(2, 2, 4, projection='3d');plots(net,ax)"
   ]
  },
  {
   "cell_type": "code",
   "execution_count": null,
   "id": "cece10f5-2a3f-4fa0-bab6-f5fe9475b768",
   "metadata": {},
   "outputs": [],
   "source": [
    "for i in range(3):\n",
    "    fig=plt.figure(figsize=(4,4));plotopo(net,fig,1)"
   ]
  },
  {
   "cell_type": "code",
   "execution_count": null,
   "id": "08f7ebe4-a6ba-4556-93a0-8fd922e0a7cd",
   "metadata": {},
   "outputs": [],
   "source": [
    "fig=plt.figure(figsize=(10,10));plotopo(net,fig,2)"
   ]
  },
  {
   "cell_type": "code",
   "execution_count": null,
   "id": "a6758e45-371c-45f7-bbe3-35f44ab78b47",
   "metadata": {},
   "outputs": [],
   "source": []
  }
 ],
 "metadata": {
  "kernelspec": {
   "display_name": "Python 3 (ipykernel)",
   "language": "python",
   "name": "python3"
  },
  "language_info": {
   "codemirror_mode": {
    "name": "ipython",
    "version": 3
   },
   "file_extension": ".py",
   "mimetype": "text/x-python",
   "name": "python",
   "nbconvert_exporter": "python",
   "pygments_lexer": "ipython3",
   "version": "3.8.13"
  }
 },
 "nbformat": 4,
 "nbformat_minor": 5
}
